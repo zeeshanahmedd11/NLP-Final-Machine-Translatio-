{
  "nbformat": 4,
  "nbformat_minor": 0,
  "metadata": {
    "colab": {
      "name": "nlp_encoder_decoder_with attention final.ipynb",
      "provenance": [],
      "collapsed_sections": []
    },
    "kernelspec": {
      "display_name": "Python 3",
      "name": "python3"
    }
  },
  "cells": [
    {
      "cell_type": "code",
      "metadata": {
        "id": "aV9Lm17W3KsP"
      },
      "source": [
        "try:\n",
        "  # %tensorflow_version only exists in Colab.\n",
        "  %tensorflow_version 2.x\n",
        "except Exception:\n",
        "  pass\n",
        "import tensorflow as tf\n",
        "\n",
        "import matplotlib.pyplot as plt\n",
        "import matplotlib.ticker as ticker\n",
        "from sklearn.model_selection import train_test_split\n",
        "import pandas as pd\n",
        "import unicodedata\n",
        "import re\n",
        "import numpy as np\n",
        "import os\n",
        "import io\n",
        "import time\n",
        "from string import digits"
      ],
      "execution_count": null,
      "outputs": []
    },
    {
      "cell_type": "code",
      "metadata": {
        "id": "HyzDMxcx3uxG"
      },
      "source": [
        "lines_ra=pd.read_csv(\"Hindi_English_Truncated_Corpus.csv\",encoding='utf-8')"
      ],
      "execution_count": null,
      "outputs": []
    },
    {
      "cell_type": "code",
      "metadata": {
        "colab": {
          "base_uri": "https://localhost:8080/"
        },
        "id": "03SDuJHTHzn5",
        "outputId": "371ef0d9-a75a-4030-d227-cc9a423f0775"
      },
      "source": [
        "\n",
        "from tqdm import tqdm\n",
        "preprocessed_reviews = []\n",
        "# tqdm is for printing the status bar\n",
        "for sentance in tqdm(lines_raw['english_sentence'].values):\n",
        "    num_digits= str.maketrans('','', digits)\n",
        "    \n",
        "    sentence= sentance.lower()\n",
        "    sentence= re.sub(\" +\", \" \", sentence)\n",
        "    sentence= re.sub(\"'\", '', sentence)\n",
        "    sentence= sentence.translate(num_digits)\n",
        "    sentence= sentence.strip()\n",
        "    sentence= re.sub(r\"([?.!,¿])\", r\" \\1 \", sentence)\n",
        "    sentence = sentence.rstrip().strip()\n",
        "    sentence=  'start_ ' + sentence + ' _end'\n",
        "    preprocessed_reviews.append(sentance.strip())"
      ],
      "execution_count": null,
      "outputs": [
        {
          "output_type": "stream",
          "text": [
            "100%|██████████| 10000/10000 [00:00<00:00, 118087.87it/s]\n"
          ],
          "name": "stderr"
        }
      ]
    },
    {
      "cell_type": "code",
      "metadata": {
        "colab": {
          "base_uri": "https://localhost:8080/"
        },
        "id": "XTn5tovlJcsU",
        "outputId": "81a0869c-7ab6-4beb-b03e-46f11a2cfa33"
      },
      "source": [
        "\n",
        "lines_raw['English_cleanedText']=preprocessed_reviews"
      ],
      "execution_count": null,
      "outputs": [
        {
          "output_type": "stream",
          "text": [
            "/usr/local/lib/python3.6/dist-packages/ipykernel_launcher.py:1: SettingWithCopyWarning: \n",
            "A value is trying to be set on a copy of a slice from a DataFrame.\n",
            "Try using .loc[row_indexer,col_indexer] = value instead\n",
            "\n",
            "See the caveats in the documentation: https://pandas.pydata.org/pandas-docs/stable/user_guide/indexing.html#returning-a-view-versus-a-copy\n",
            "  \"\"\"Entry point for launching an IPython kernel.\n"
          ],
          "name": "stderr"
        }
      ]
    },
    {
      "cell_type": "code",
      "metadata": {
        "colab": {
          "base_uri": "https://localhost:8080/"
        },
        "id": "jf2Ba6wMGAV9",
        "outputId": "c542f308-94a6-446f-fd7d-cc1db7e821a5"
      },
      "source": [
        "\n",
        "lines_raw['English_cleanedText']"
      ],
      "execution_count": null,
      "outputs": [
        {
          "output_type": "execute_result",
          "data": {
            "text/plain": [
              "0       politicians do not have permission to do what ...\n",
              "1              I'd like to tell you about one such child,\n",
              "2       This percentage is even greater than the perce...\n",
              "3       what we really mean is that they're bad at not...\n",
              "4       .The ending portion of these Vedas is called U...\n",
              "                              ...                        \n",
              "9995     It 's not that the US is unaware of this nexus .\n",
              "9996    The separatist tendency in the political field...\n",
              "9997    It contains twice as much of nitrogen and pota...\n",
              "9998    Spokesmen for industries, which are polluting,...\n",
              "9999    done by Noah Snavely, a graduate student at th...\n",
              "Name: English_cleanedText, Length: 10000, dtype: object"
            ]
          },
          "metadata": {
            "tags": []
          },
          "execution_count": 42
        }
      ]
    },
    {
      "cell_type": "code",
      "metadata": {
        "colab": {
          "base_uri": "https://localhost:8080/"
        },
        "id": "6Lu8PBViJjis",
        "outputId": "3b32ea3f-b59d-44e9-906c-4fb6295ae8b0"
      },
      "source": [
        "\n",
        "from tqdm import tqdm\n",
        "preprocessed_reviews = []\n",
        "# tqdm is for printing the status bar\n",
        "for sentance in tqdm(lines_raw['hindi_sentence'].values):\n",
        "    num_digits= str.maketrans('','', digits)\n",
        "    \n",
        "    #sentence= sentance.lower()\n",
        "    sentence= re.sub(\" +\", \" \", sentence)\n",
        "    sentence= re.sub(\"'\", '', sentence)\n",
        "    sentence= sentence.translate(num_digits)\n",
        "    sentence= sentence.strip()\n",
        "    sentence= re.sub(\"[२३०८१५७९४६]\", \"\",  sentence)\n",
        "    sentence = sentence.rstrip().strip()\n",
        "    sentence=  'start_ ' + sentence + ' _end'\n",
        "    preprocessed_reviews.append(sentance.strip())"
      ],
      "execution_count": null,
      "outputs": [
        {
          "output_type": "stream",
          "text": [
            "100%|██████████| 10000/10000 [00:39<00:00, 251.81it/s]\n"
          ],
          "name": "stderr"
        }
      ]
    },
    {
      "cell_type": "code",
      "metadata": {
        "colab": {
          "base_uri": "https://localhost:8080/"
        },
        "id": "mD0WybQI4b3r",
        "outputId": "e847a295-a7a0-4554-93f0-2b1c200dac65"
      },
      "source": [
        "sample_size=1500\n",
        "source1 = lines_raw['english_sentence'].astype(str)\n",
        "target1 = lines_raw['hindi_sentence'].astype(str)\n",
        "source = tuple(source1)\n",
        "target = tuple(target1)\n",
        "print(source[-1])\n",
        "print(target[-1])\n",
        "type(target)"
      ],
      "execution_count": null,
      "outputs": [
        {
          "output_type": "stream",
          "text": [
            "start_ This aboriginal Hind-European language has a lot of connection. _end\n",
            "start_ ये आदिम-हिन्द-यूरोपीय भाषा से बहुत अधिक मेल खाती है। _end\n"
          ],
          "name": "stdout"
        },
        {
          "output_type": "execute_result",
          "data": {
            "text/plain": [
              "tuple"
            ]
          },
          "metadata": {
            "tags": []
          },
          "execution_count": 9
        }
      ]
    },
    {
      "cell_type": "code",
      "metadata": {
        "id": "fZJSQfLy4gWY"
      },
      "source": [
        "def max_length(tensor):\n",
        "  return max(len(t) for t in tensor)"
      ],
      "execution_count": null,
      "outputs": []
    },
    {
      "cell_type": "code",
      "metadata": {
        "id": "SXRr_O1CA_W0"
      },
      "source": [
        "source_sentence_tokenizer= tf.keras.preprocessing.text.Tokenizer(filters='')\n",
        "source_sentence_tokenizer.fit_on_texts(source)\n",
        "source_tensor = source_sentence_tokenizer.texts_to_sequences(source)\n",
        "source_tensor= tf.keras.preprocessing.sequence.pad_sequences(source_tensor,padding='post' )"
      ],
      "execution_count": null,
      "outputs": []
    },
    {
      "cell_type": "code",
      "metadata": {
        "colab": {
          "base_uri": "https://localhost:8080/"
        },
        "id": "CxdK3ZvNBBts",
        "outputId": "9bbf2958-830a-4495-f09b-35a5de2b1dba"
      },
      "source": [
        "target_sentence_tokenizer= tf.keras.preprocessing.text.Tokenizer(filters='')\n",
        "target_sentence_tokenizer.fit_on_texts(target)\n",
        "target_tensor = target_sentence_tokenizer.texts_to_sequences(target)\n",
        "target_tensor= tf.keras.preprocessing.sequence.pad_sequences(target_tensor,padding='post' )\n",
        "print(len(target_tensor[0]))"
      ],
      "execution_count": null,
      "outputs": [
        {
          "output_type": "stream",
          "text": [
            "228\n"
          ],
          "name": "stdout"
        }
      ]
    },
    {
      "cell_type": "code",
      "metadata": {
        "colab": {
          "base_uri": "https://localhost:8080/"
        },
        "id": "-j4Zw1JIBvQv",
        "outputId": "9c17548b-bc60-4c97-dab8-bf80765040b4"
      },
      "source": [
        "max_target_length= max(len(t) for t in  target_tensor)\n",
        "print(max_target_length)\n",
        "max_source_length= max(len(t) for t in  source_tensor)\n",
        "print(max_source_length)"
      ],
      "execution_count": null,
      "outputs": [
        {
          "output_type": "stream",
          "text": [
            "228\n",
            "208\n"
          ],
          "name": "stdout"
        }
      ]
    },
    {
      "cell_type": "code",
      "metadata": {
        "id": "jpReJpHpB06Q"
      },
      "source": [
        "source_train_tensor, source_test_tensor, target_train_tensor, target_test_tensor= train_test_split(source_tensor, target_tensor,test_size=0.2)"
      ],
      "execution_count": null,
      "outputs": []
    },
    {
      "cell_type": "code",
      "metadata": {
        "colab": {
          "base_uri": "https://localhost:8080/"
        },
        "id": "gowj5CgWCBCC",
        "outputId": "90716503-a2b7-4938-cc1c-cc704e21dafa"
      },
      "source": [
        "input_tensor_train, input_tensor_val, target_tensor_train, target_tensor_val = train_test_split(source_tensor, target_tensor, test_size=0.2)\n",
        "print(len(input_tensor_train), len(target_tensor_train), len(input_tensor_val), len(target_tensor_val))"
      ],
      "execution_count": null,
      "outputs": [
        {
          "output_type": "stream",
          "text": [
            "1200 1200 300 300\n"
          ],
          "name": "stdout"
        }
      ]
    },
    {
      "cell_type": "code",
      "metadata": {
        "colab": {
          "base_uri": "https://localhost:8080/"
        },
        "id": "4deuHC3KCD9T",
        "outputId": "07a64db7-fee9-4a52-b12b-693b909dfea8"
      },
      "source": [
        "type(input_tensor_train)"
      ],
      "execution_count": null,
      "outputs": [
        {
          "output_type": "execute_result",
          "data": {
            "text/plain": [
              "numpy.ndarray"
            ]
          },
          "metadata": {
            "tags": []
          },
          "execution_count": 16
        }
      ]
    },
    {
      "cell_type": "code",
      "metadata": {
        "id": "K_5VUXrWCHLk"
      },
      "source": [
        "def convert(lang, tensor):\n",
        "  for t in tensor:\n",
        "    if t!=0:\n",
        "      print (\"%d ----> %s\" % (t, lang.index_word[t]))"
      ],
      "execution_count": null,
      "outputs": []
    },
    {
      "cell_type": "code",
      "metadata": {
        "colab": {
          "base_uri": "https://localhost:8080/"
        },
        "id": "E4vB8zPVCKOr",
        "outputId": "53d3d2d1-6a8b-4e54-e3e1-3d74b7d8f929"
      },
      "source": [
        "print (\"Input Language; index to word mapping\")\n",
        "convert(source_sentence_tokenizer, source_train_tensor[1])\n",
        "print ()\n",
        "print (\"Target Language; index to word mapping\")\n",
        "convert( target_sentence_tokenizer, target_train_tensor[1])"
      ],
      "execution_count": null,
      "outputs": [
        {
          "output_type": "stream",
          "text": [
            "Input Language; index to word mapping\n",
            "2 ----> start_\n",
            "82 ----> your\n",
            "974 ----> strength\n",
            "27 ----> has\n",
            "2774 ----> sorely\n",
            "53 ----> been\n",
            "2775 ----> taxed\n",
            "975 ----> imprisonment\n",
            "7 ----> ,\n",
            "2776 ----> banishment\n",
            "5 ----> and\n",
            "2777 ----> disease\n",
            "7 ----> ,\n",
            "29 ----> but\n",
            "976 ----> rather\n",
            "64 ----> than\n",
            "2778 ----> impairing\n",
            "7 ----> ,\n",
            "47 ----> these\n",
            "26 ----> have\n",
            "561 ----> helped\n",
            "8 ----> to\n",
            "2779 ----> broaden\n",
            "82 ----> your\n",
            "2780 ----> sympathiesenlarging\n",
            "82 ----> your\n",
            "722 ----> vision\n",
            "55 ----> so\n",
            "17 ----> as\n",
            "8 ----> to\n",
            "1471 ----> embrace\n",
            "1 ----> the\n",
            "711 ----> vast\n",
            "2781 ----> perspectives\n",
            "4 ----> of\n",
            "559 ----> history\n",
            "977 ----> beyond\n",
            "87 ----> any\n",
            "1472 ----> narrow\n",
            "678 ----> limits\n",
            "4 ----> of\n",
            "562 ----> territory\n",
            "6 ----> .\n",
            "6 ----> .\n",
            "978 ----> ..\n",
            "36 ----> i\n",
            "1473 ----> feel\n",
            "12 ----> that\n",
            "28 ----> you\n",
            "26 ----> have\n",
            "231 ----> come\n",
            "21 ----> with\n",
            "42 ----> an\n",
            "2782 ----> errand\n",
            "8 ----> to\n",
            "2783 ----> usher\n",
            "10 ----> a\n",
            "104 ----> new\n",
            "542 ----> light\n",
            "4 ----> of\n",
            "1474 ----> hope\n",
            "9 ----> in\n",
            "82 ----> your\n",
            "2784 ----> motherland\n",
            "6 ----> .\n",
            "6 ----> .\n",
            "6 ----> .\n",
            "3 ----> _end\n",
            "\n",
            "Target Language; index to word mapping\n",
            "1 ----> start_\n",
            "3074 ----> कारावासों\n",
            "11 ----> ,\n",
            "3075 ----> निर्वासनों\n",
            "187 ----> ओर\n",
            "801 ----> रोगों\n",
            "21 ----> ने\n",
            "1189 ----> तुम्हारी\n",
            "3076 ----> क्षमताओं\n",
            "10 ----> को\n",
            "62 ----> बहुत\n",
            "3077 ----> हलकान\n",
            "29 ----> किया\n",
            "11 ----> ,\n",
            "308 ----> मगर\n",
            "95 ----> उन्हें\n",
            "1730 ----> क्षति\n",
            "3078 ----> पहुंचाना\n",
            "28 ----> तो\n",
            "291 ----> दूर\n",
            "11 ----> ,\n",
            "117 ----> उन\n",
            "3079 ----> पीड़ाओं\n",
            "21 ----> ने\n",
            "1189 ----> तुम्हारी\n",
            "3080 ----> संवेदनाओं\n",
            "10 ----> को\n",
            "379 ----> विस्तार\n",
            "67 ----> दिया\n",
            "11 ----> ,\n",
            "208 ----> जिससे\n",
            "1189 ----> तुम्हारी\n",
            "686 ----> दृष्टि\n",
            "696 ----> व्यापक\n",
            "162 ----> हुई\n",
            "6 ----> और\n",
            "676 ----> तुम\n",
            "1731 ----> क्षेत्रीय\n",
            "3081 ----> संकीर्णताओं\n",
            "9 ----> से\n",
            "896 ----> परे\n",
            "3082 ----> रहकर\n",
            "605 ----> इतिहास\n",
            "3 ----> के\n",
            "3083 ----> विराट\n",
            "897 ----> परिप्रेक्ष्य\n",
            "10 ----> को\n",
            "3084 ----> हृदयंगम\n",
            "25 ----> कर\n",
            "271 ----> सके\n",
            "7 ----> .\n",
            "7 ----> .\n",
            "7 ----> .\n",
            "246 ----> मुझे\n",
            "479 ----> लगता\n",
            "5 ----> है\n",
            "11 ----> ,\n",
            "676 ----> तुम\n",
            "66 ----> अपनी\n",
            "1705 ----> मातृभूमि\n",
            "3 ----> के\n",
            "18 ----> लिए\n",
            "397 ----> नयी\n",
            "1732 ----> रोशनी\n",
            "6 ----> और\n",
            "3085 ----> उम्मीद\n",
            "3 ----> के\n",
            "3086 ----> संदेशवाहक\n",
            "1527 ----> बनकर\n",
            "1733 ----> आये\n",
            "24 ----> हो\n",
            "7 ----> .\n",
            "2 ----> _end\n"
          ],
          "name": "stdout"
        }
      ]
    },
    {
      "cell_type": "code",
      "metadata": {
        "colab": {
          "base_uri": "https://localhost:8080/"
        },
        "id": "hGiUzq1kCNAm",
        "outputId": "88a715af-044b-40ec-896f-572a087028ba"
      },
      "source": [
        "buffer size = len(source_train_tensor)\n",
        "batch size = 128\n",
        "steps_per_epoch = len(source_train_tensor)//batch size\n",
        "embedding_dim = 56\n",
        "units = 124\n",
        "vocab_inp_size = len(source_sentence_tokenizer.word_index)+1\n",
        "vocab_tar_size = len(target_sentence_tokenizer.word_index)+1\n",
        "\n",
        "dataset = tf.data.Dataset.from_tensor_slices((source_train_tensor, target_train_tensor)).shuffle(buffer size)\n",
        "dataset = dataset.batch(batchsize, drop_remainder=True)\n",
        "type(dataset)"
      ],
      "execution_count": null,
      "outputs": [
        {
          "output_type": "execute_result",
          "data": {
            "text/plain": [
              "tensorflow.python.data.ops.dataset_ops.BatchDataset"
            ]
          },
          "metadata": {
            "tags": []
          },
          "execution_count": 19
        }
      ]
    },
    {
      "cell_type": "code",
      "metadata": {
        "colab": {
          "base_uri": "https://localhost:8080/"
        },
        "id": "X2jui7zSCREB",
        "outputId": "156e9ad2-3156-40de-e902-f96dd7317f4d"
      },
      "source": [
        "example_input_batch, example_target_batch = next(iter(dataset))\n",
        "example_input_batch.shape, example_target_batch.shape"
      ],
      "execution_count": null,
      "outputs": [
        {
          "output_type": "execute_result",
          "data": {
            "text/plain": [
              "(TensorShape([64, 208]), TensorShape([64, 228]))"
            ]
          },
          "metadata": {
            "tags": []
          },
          "execution_count": 20
        }
      ]
    },
    {
      "cell_type": "code",
      "metadata": {
        "id": "fjB1kIE7CTY1"
      },
      "source": [
        "class Encoder(tf.keras.Model):\n",
        "  def __init__(self, vocab_size, embedding_dim, enc_units, batch_sz):\n",
        "    super(Encoder, self).__init__()\n",
        "    self.batch_sz = batch_sz\n",
        "    self.enc_units = enc_units\n",
        "    self.embedding = tf.keras.layers.Embedding(vocab_size, embedding_dim)\n",
        "    self.gru = tf.keras.layers.GRU(self.enc_units,recurrent_initializer='glorot_uniform')\n",
        "                                   \n",
        "                                   \n",
        "                                   \n",
        "\n",
        "  def call(self, x, hidden):\n",
        "    x = self.embedding(x)\n",
        "    output, state = self.gru(x, initial_state = hidden)\n",
        "    return output, state\n",
        "\n",
        "  def initialize_hidden_state(self):\n",
        "    return tf.zeros((self.batch_sz, self.enc_units))"
      ],
      "execution_count": null,
      "outputs": []
    },
    {
      "cell_type": "code",
      "metadata": {
        "colab": {
          "base_uri": "https://localhost:8080/"
        },
        "id": "ISUl-_p0CZEa",
        "outputId": "531dcff8-7f1a-4070-9c60-5dbfd5f9bc04"
      },
      "source": [
        "encoder = Encoder(vocab_inp_size, embedding_dim, units, BATCH_SIZE)\n",
        "sample_hidden = encoder.initialize_hidden_state()\n",
        "sample_output, sample_hidden = encoder(example_input_batch, sample_hidden)\n",
        "print ('Encoder output shape: (batch size, sequence length, units) {}'.format(sample_output.shape))\n",
        "print ('Encoder Hidden state shape: (batch size, units) {}'.format(sample_hidden.shape))"
      ],
      "execution_count": null,
      "outputs": [
        {
          "output_type": "stream",
          "text": [
            "Encoder output shape: (batch size, sequence length, units) (64, 208, 124)\n",
            "Encoder Hidden state shape: (batch size, units) (64, 124)\n"
          ],
          "name": "stdout"
        }
      ]
    },
    {
      "cell_type": "code",
      "metadata": {
        "id": "Wj_pTFkoCbzB"
      },
      "source": [
        "class BahdanauAttention(tf.keras.layers.Layer):\n",
        "  def __init__(self, units):\n",
        "    super(BahdanauAttention, self).__init__()\n",
        "    self.W1 = tf.keras.layers.Dense(units)\n",
        "    self.W2 = tf.keras.layers.Dense(units)\n",
        "    self.V = tf.keras.layers.Dense(1)\n",
        "\n",
        "  def call(self, query, values):\n",
        "    hidden_with_time_axis = tf.expand_dims(query, 1)\n",
        "    score = self.V(tf.nn.tanh(self.W1(values) + self.W2(hidden_with_time_axis)))\n",
        "    attention_weights = tf.nn.softmax(score, axis=1)\n",
        "    context_vector = attention_weights * values\n",
        "    context_vector = tf.reduce_sum(context_vector, axis=1)\n",
        "\n",
        "    return context_vector, attention_weights"
      ],
      "execution_count": null,
      "outputs": []
    },
    {
      "cell_type": "code",
      "metadata": {
        "colab": {
          "base_uri": "https://localhost:8080/"
        },
        "id": "ymmKWtjECh35",
        "outputId": "9f908a06-9334-4ba0-afa3-22c3b7db29cc"
      },
      "source": [
        "attention_layer = BahdanauAttention(10)\n",
        "attention_result, attention_weights = attention_layer(sample_hidden, sample_output)\n",
        "\n",
        "print(\"Attention result shape: (batch size, units) {}\".format(attention_result.shape))\n",
        "print(\"Attention weights shape: (batch_size, sequence_length, 1) {}\".format(attention_weights.shape))"
      ],
      "execution_count": null,
      "outputs": [
        {
          "output_type": "stream",
          "text": [
            "Attention result shape: (batch size, units) (64, 124)\n",
            "Attention weights shape: (batch_size, sequence_length, 1) (64, 208, 1)\n"
          ],
          "name": "stdout"
        }
      ]
    },
    {
      "cell_type": "code",
      "metadata": {
        "id": "84hFtiVOCkbU"
      },
      "source": [
        "class Decoder(tf.keras.Model):\n",
        "  def __init__(self, vocab_size, embedding_dim, dec_units, batch_sz):\n",
        "    super(Decoder, self).__init__()\n",
        "    self.batch_sz = batch_sz\n",
        "    self.dec_units = dec_units\n",
        "    self.embedding = tf.keras.layers.Embedding(vocab_size, embedding_dim)\n",
        "    self.gru = tf.keras.layers.GRU(self.dec_units,recurrent_initializer='glorot_uniform')\n",
        "    self.fc = tf.keras.layers.Dense(vocab_size)                               \n",
        "    self.attention = BahdanauAttention(self.dec_units)\n",
        "\n",
        "  def call(self, x, hidden, enc_output):\n",
        "    context_vector, attention_weights = self.attention(hidden, enc_output)\n",
        "    x = self.embedding(x)\n",
        "    x = tf.concat([tf.expand_dims(context_vector, 1), x], axis=-1)\n",
        "    output, state = self.gru(x)\n",
        "    output = tf.reshape(output, (-1, output.shape[2]))\n",
        "    x = self.fc(output)\n",
        "    return x, state, attention_weights\n",
        "   "
      ],
      "execution_count": null,
      "outputs": []
    },
    {
      "cell_type": "code",
      "metadata": {
        "colab": {
          "base_uri": "https://localhost:8080/"
        },
        "id": "MSWFSvvOCo3i",
        "outputId": "d9c4c47b-54a6-43a7-fcec-c1b53a7b474c"
      },
      "source": [
        "decoder = Decoder(vocab_tar_size, embedding_dim, units, batch size)\n",
        "\n",
        "sample_decoder_output = decoder(tf.random.uniform((batch size, 1)),\n",
        "                                      sample_hidden, sample_output)\n",
        "\n",
        "print ('Decoder output shape: (batch_size, vocab size) {}'.format(sample_decoder_output.shape))"
      ],
      "execution_count": null,
      "outputs": [
        {
          "output_type": "stream",
          "text": [
            "Decoder output shape: (batch_size, vocab size) (64, 7349)\n"
          ],
          "name": "stdout"
        }
      ]
    },
    {
      "cell_type": "code",
      "metadata": {
        "id": "l5Z7sd6PCrgE"
      },
      "source": [
        "optimizer = tf.keras.optimizers.Adam()\n",
        "loss_object = tf.keras.losses.SparseCategoricalCrossentropy(from_logits=True, reduction='none')\n",
        "    \n",
        "\n",
        "def loss_function(real, pred):\n",
        "  mask = tf.math.logical_not(tf.math.equal(real, 0))\n",
        "  loss_ = loss_object(real, pred)\n",
        "\n",
        "  mask = tf.cast(mask, dtype=loss_.dtype)\n",
        "  loss_ *= mask\n",
        "\n",
        "  return tf.reduce_mean(loss_)"
      ],
      "execution_count": null,
      "outputs": []
    },
    {
      "cell_type": "code",
      "metadata": {
        "id": "ABtHaQbECxrE"
      },
      "source": [
        "@tf.function\n",
        "def train_step(inp, targ, enc_hidden):\n",
        "  loss = 0\n",
        "\n",
        "  with tf.GradientTape() as tape:\n",
        "    enc_output, enc_hidden = encoder(inp, enc_hidden)\n",
        "\n",
        "    dec_hidden = enc_hidden\n",
        "\n",
        "    dec_input = tf.expand_dims([target_sentence_tokenizer.word_index['start_']] * batch size, 1)\n",
        "\n",
        "    \n",
        "    for t in range(1, targ.shape[1]):\n",
        "      \n",
        "      predictions, dec_hidden, _ = decoder(dec_input, dec_hidden, enc_output)\n",
        "\n",
        "      loss += loss_function(targ[:, t], predictions)\n",
        "\n",
        "     \n",
        "      dec_input = tf.expand_dims(targ[:, t], 1)\n",
        "\n",
        "  batch_loss = (loss / int(targ.shape[1]))\n",
        "\n",
        "  variables = encoder.trainable_variables + decoder.trainable_variables\n",
        "\n",
        "  gradients = tape.gradient(loss, variables)\n",
        "\n",
        "  optimizer.apply_gradients(zip(gradients, variables))\n",
        "\n",
        "  return batch_loss"
      ],
      "execution_count": null,
      "outputs": []
    },
    {
      "cell_type": "code",
      "metadata": {
        "colab": {
          "base_uri": "https://localhost:8080/"
        },
        "id": "l3Fe85TDC2q-",
        "outputId": "472ec59d-3e22-4abf-aac8-19fab7ed9e5b"
      },
      "source": [
        "epochs = 10\n",
        "\n",
        "for epoch in range(epochs):\n",
        "  start = time.time()\n",
        "\n",
        "  encode_hidden = encoder.initialize_hidden_state()\n",
        "  total_loss = 0\n",
        "\n",
        "  for (batch, (inp, targ)) in enumerate(dataset.take(steps_per_epoch)):\n",
        "    batch_loss = train_step(inp, targ, encode_hidden)\n",
        "    total_loss += batch_loss\n",
        "    if batch % 100 == 0:\n",
        "      print('Epoch {} Batch {} loss {}'.format(epoch + 1,batch, batch_loss.numpy()))\n",
        "   \n",
        "      \n",
        "  \n",
        "  if (epoch + 1) % 2 == 0:\n",
        "    checkpoint.save(file_prefix = checkpoint_prefix)\n",
        "\n",
        "  print('Epoch {} Loss {:.4f}'.format(epoch + 1,total_loss / steps_per_epoch))\n",
        "                                      \n",
        "  print('Time taken for 1 epoch {} sec\\n'.format(time.time() - start))"
      ],
      "execution_count": null,
      "outputs": [
        {
          "output_type": "stream",
          "text": [
            "Epoch 1 Batch 0 loss 0.7381895184516907\n",
            "Epoch 1 Loss 0.7545\n",
            "Time taken for 1 epoch 546.0049209594727 sec\n",
            "\n",
            "Epoch 2 Batch 0 loss 0.774114191532135\n",
            "Epoch 2 Loss 0.6296\n",
            "Time taken for 1 epoch 247.57399797439575 sec\n",
            "\n",
            "Epoch 3 Batch 0 loss 0.6878112554550171\n",
            "Epoch 3 Loss 0.6116\n",
            "Time taken for 1 epoch 246.79069685935974 sec\n",
            "\n",
            "Epoch 4 Batch 0 loss 0.4718201756477356\n",
            "Epoch 4 Loss 0.6052\n",
            "Time taken for 1 epoch 245.395849943161 sec\n",
            "\n",
            "Epoch 5 Batch 0 loss 0.6074771881103516\n",
            "Epoch 5 Loss 0.5994\n",
            "Time taken for 1 epoch 243.5123815536499 sec\n",
            "\n",
            "Epoch 6 Batch 0 loss 0.6427713632583618\n",
            "Epoch 6 Loss 0.6012\n",
            "Time taken for 1 epoch 244.22025084495544 sec\n",
            "\n",
            "Epoch 7 Batch 0 loss 0.5501576662063599\n",
            "Epoch 7 Loss 0.5902\n",
            "Time taken for 1 epoch 243.49985361099243 sec\n",
            "\n",
            "Epoch 8 Batch 0 loss 0.482696533203125\n",
            "Epoch 8 Loss 0.5931\n",
            "Time taken for 1 epoch 243.04541158676147 sec\n",
            "\n",
            "Epoch 9 Batch 0 loss 0.6561822295188904\n",
            "Epoch 9 Loss 0.5858\n",
            "Time taken for 1 epoch 244.77561450004578 sec\n",
            "\n",
            "Epoch 10 Batch 0 loss 0.6590399742126465\n",
            "Epoch 10 Loss 0.5773\n",
            "Time taken for 1 epoch 244.04398894309998 sec\n",
            "\n"
          ],
          "name": "stdout"
        }
      ]
    },
    {
      "cell_type": "code",
      "metadata": {
        "id": "Pkvk3meU0-hX"
      },
      "source": [
        ""
      ],
      "execution_count": null,
      "outputs": []
    }
  ]
}